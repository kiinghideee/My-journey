{
  "nbformat": 4,
  "nbformat_minor": 0,
  "metadata": {
    "colab": {
      "provenance": [],
      "authorship_tag": "ABX9TyNUoOrhmzhbfHrw3W3GxW+c",
      "include_colab_link": true
    },
    "kernelspec": {
      "name": "python3",
      "display_name": "Python 3"
    },
    "language_info": {
      "name": "python"
    }
  },
  "cells": [
    {
      "cell_type": "markdown",
      "metadata": {
        "id": "view-in-github",
        "colab_type": "text"
      },
      "source": [
        "<a href=\"https://colab.research.google.com/github/kiinghideee/My-journey/blob/main/Data_Analytics_with_Yomi%2C_Python_class1.ipynb\" target=\"_parent\"><img src=\"https://colab.research.google.com/assets/colab-badge.svg\" alt=\"Open In Colab\"/></a>"
      ]
    },
    {
      "cell_type": "code",
      "source": [
        "sinzu = 'my name is pablo'"
      ],
      "metadata": {
        "id": "ANlfcK3mg0XJ"
      },
      "execution_count": 6,
      "outputs": []
    },
    {
      "cell_type": "code",
      "source": [
        "sinzu"
      ],
      "metadata": {
        "colab": {
          "base_uri": "https://localhost:8080/",
          "height": 35
        },
        "id": "oGvVt4NiiUD1",
        "outputId": "45019c19-f18a-42f7-a8de-017a8f1b832d"
      },
      "execution_count": 8,
      "outputs": [
        {
          "output_type": "execute_result",
          "data": {
            "text/plain": [
              "'my name is pablo'"
            ],
            "application/vnd.google.colaboratory.intrinsic+json": {
              "type": "string"
            }
          },
          "metadata": {},
          "execution_count": 8
        }
      ]
    },
    {
      "cell_type": "code",
      "source": [
        "2+2\n"
      ],
      "metadata": {
        "colab": {
          "base_uri": "https://localhost:8080/"
        },
        "id": "tc54GGdTjHBX",
        "outputId": "d2040acc-2ece-43e6-9d17-bc052b9f60e4"
      },
      "execution_count": 9,
      "outputs": [
        {
          "output_type": "execute_result",
          "data": {
            "text/plain": [
              "4"
            ]
          },
          "metadata": {},
          "execution_count": 9
        }
      ]
    },
    {
      "cell_type": "code",
      "source": [
        "9*0"
      ],
      "metadata": {
        "colab": {
          "base_uri": "https://localhost:8080/"
        },
        "id": "hH22vXFcke2O",
        "outputId": "5643f92f-cda8-4519-94b8-2f1faa37a747"
      },
      "execution_count": 10,
      "outputs": [
        {
          "output_type": "execute_result",
          "data": {
            "text/plain": [
              "0"
            ]
          },
          "metadata": {},
          "execution_count": 10
        }
      ]
    },
    {
      "cell_type": "code",
      "source": [
        "  input = 4\n",
        "  output = 10\n",
        "  input / output"
      ],
      "metadata": {
        "colab": {
          "base_uri": "https://localhost:8080/"
        },
        "id": "q1zbiEi8k_0L",
        "outputId": "7bb8c494-b177-4a34-b0f0-34e8439a5a2b"
      },
      "execution_count": 11,
      "outputs": [
        {
          "output_type": "execute_result",
          "data": {
            "text/plain": [
              "0.4"
            ]
          },
          "metadata": {},
          "execution_count": 11
        }
      ]
    },
    {
      "cell_type": "code",
      "source": [
        "2**4"
      ],
      "metadata": {
        "colab": {
          "base_uri": "https://localhost:8080/"
        },
        "id": "K2SCQI0OmlTJ",
        "outputId": "d005100f-8737-4362-ef4b-a8079f0110ce"
      },
      "execution_count": 12,
      "outputs": [
        {
          "output_type": "execute_result",
          "data": {
            "text/plain": [
              "16"
            ]
          },
          "metadata": {},
          "execution_count": 12
        }
      ]
    },
    {
      "cell_type": "code",
      "source": [
        "2*3"
      ],
      "metadata": {
        "colab": {
          "base_uri": "https://localhost:8080/"
        },
        "id": "XYH69ISnmrPx",
        "outputId": "615c2767-b2f0-4dc7-d209-c698c75a13af"
      },
      "execution_count": 13,
      "outputs": [
        {
          "output_type": "execute_result",
          "data": {
            "text/plain": [
              "6"
            ]
          },
          "metadata": {},
          "execution_count": 13
        }
      ]
    },
    {
      "cell_type": "code",
      "source": [
        "10 % 3"
      ],
      "metadata": {
        "colab": {
          "base_uri": "https://localhost:8080/"
        },
        "id": "jhQFq4_OmtaN",
        "outputId": "431856fb-ea83-4432-9e14-53af3b93e8ba"
      },
      "execution_count": 14,
      "outputs": [
        {
          "output_type": "execute_result",
          "data": {
            "text/plain": [
              "1"
            ]
          },
          "metadata": {},
          "execution_count": 14
        }
      ]
    },
    {
      "cell_type": "code",
      "source": [],
      "metadata": {
        "id": "dAJpVRZGnAEa"
      },
      "execution_count": null,
      "outputs": []
    },
    {
      "cell_type": "markdown",
      "source": [
        "#Variable Class work\n",
        "\n",
        "```\n",
        "# This is formatted as code\n",
        "```\n",
        "\n"
      ],
      "metadata": {
        "id": "aKLnxldXoQaG"
      }
    },
    {
      "cell_type": "markdown",
      "source": [
        "# shoprite sells a bag of rice for $40 and makes a 20% profit. If it sells 500 bags of rice, how much total profit does it make?\n",
        "\n",
        "# We can list out the information provided and gradually convert the word problem into a mathematical expression that can be evaluated using Python.\n",
        "\n",
        "Cost of rice bag ($) = 40\n",
        "\n",
        "Profit margin = 20% = .2\n",
        "\n",
        "Profit per bag ($) = profit margin * cost of ice bag = .2 * 40\n",
        "\n",
        "No. of bags = 500\n",
        "\n",
        "Total profit = no. of bags * profit per bag = 500 * (.2 * 40)"
      ],
      "metadata": {
        "id": "jPuVcv2JqUYl"
      }
    },
    {
      "cell_type": "markdown",
      "source": [],
      "metadata": {
        "id": "z3Kcf0Ppqi4d"
      }
    },
    {
      "cell_type": "code",
      "source": [
        "cost_of_rice_bag = 40\n",
        "\n",
        "profit_margin = .2\n",
        "\n",
        "no_of_bags = 500"
      ],
      "metadata": {
        "id": "JHYXvRqvqo-V"
      },
      "execution_count": 20,
      "outputs": []
    },
    {
      "cell_type": "code",
      "source": [
        "profit_per_bag = profit_margin * cost_of_rice_bag"
      ],
      "metadata": {
        "id": "01pIUG6BoTj1"
      },
      "execution_count": 21,
      "outputs": []
    },
    {
      "cell_type": "code",
      "source": [
        "profit_per_bag"
      ],
      "metadata": {
        "colab": {
          "base_uri": "https://localhost:8080/"
        },
        "id": "X2-6KcOXx1Lz",
        "outputId": "180f1573-7410-42a9-d0fc-78adeabc890d"
      },
      "execution_count": 26,
      "outputs": [
        {
          "output_type": "execute_result",
          "data": {
            "text/plain": [
              "8.0"
            ]
          },
          "metadata": {},
          "execution_count": 26
        }
      ]
    },
    {
      "cell_type": "code",
      "source": [
        "total_profit = no_of_bags * profit_per_bag"
      ],
      "metadata": {
        "id": "P4UoJIPDsr2D"
      },
      "execution_count": 22,
      "outputs": []
    },
    {
      "cell_type": "code",
      "source": [
        "total_profit"
      ],
      "metadata": {
        "colab": {
          "base_uri": "https://localhost:8080/"
        },
        "id": "3g7TPRj0tHWg",
        "outputId": "cf271643-a2e1-4104-8abf-7d320d3ec4eb"
      },
      "execution_count": 23,
      "outputs": [
        {
          "output_type": "execute_result",
          "data": {
            "text/plain": [
              "4000.0"
            ]
          },
          "metadata": {},
          "execution_count": 23
        }
      ]
    },
    {
      "cell_type": "code",
      "source": [
        "20 / 100"
      ],
      "metadata": {
        "colab": {
          "base_uri": "https://localhost:8080/"
        },
        "id": "syco82BitJX9",
        "outputId": "50f79dc6-877e-4ff2-d927-e51b1fb33c5e"
      },
      "execution_count": 25,
      "outputs": [
        {
          "output_type": "execute_result",
          "data": {
            "text/plain": [
              "0.2"
            ]
          },
          "metadata": {},
          "execution_count": 25
        }
      ]
    },
    {
      "cell_type": "code",
      "source": [],
      "metadata": {
        "id": "W0T6hIVbujXJ"
      },
      "execution_count": null,
      "outputs": []
    },
    {
      "cell_type": "markdown",
      "source": [
        "# *Assignment\n",
        "A group of senators are to fly a plane to the eagle square for the all progressive congress presidential primaries. Flying the plane costs 5000 dollars. So far, 29 people have signed up for the trip. If the company charges 200 dollars per ticket, what is the profit made by the company? Create variables for each numeric quantity and use appropriate arithmetic operations*."
      ],
      "metadata": {
        "id": "KkVMBzU5EYbN"
      }
    },
    {
      "cell_type": "code",
      "source": [
        "plane_running_cost = 5000\n",
        "\n",
        "price_per_ticket = 200\n",
        "\n",
        "no_of_passengers = 29\n"
      ],
      "metadata": {
        "id": "kaEmW_RNEaiQ"
      },
      "execution_count": 2,
      "outputs": []
    },
    {
      "cell_type": "code",
      "source": [
        "over_all_income = price_per_ticket * no_of_passengers\n",
        "\n",
        "over_all_income"
      ],
      "metadata": {
        "colab": {
          "base_uri": "https://localhost:8080/"
        },
        "id": "j4to70NxFXhQ",
        "outputId": "65a5cc89-cf47-4ff7-fb4b-e324682e54ca"
      },
      "execution_count": 3,
      "outputs": [
        {
          "output_type": "execute_result",
          "data": {
            "text/plain": [
              "5800"
            ]
          },
          "metadata": {},
          "execution_count": 3
        }
      ]
    },
    {
      "cell_type": "code",
      "source": [
        "total_profits = over_all_income - plane_running_cost"
      ],
      "metadata": {
        "id": "DEFLtsZHIbNc"
      },
      "execution_count": 4,
      "outputs": []
    },
    {
      "cell_type": "code",
      "source": [
        "total_profits"
      ],
      "metadata": {
        "colab": {
          "base_uri": "https://localhost:8080/"
        },
        "id": "WJninyFfI3pU",
        "outputId": "b6406a79-4386-472e-d662-69723b953b54"
      },
      "execution_count": 5,
      "outputs": [
        {
          "output_type": "execute_result",
          "data": {
            "text/plain": [
              "800"
            ]
          },
          "metadata": {},
          "execution_count": 5
        }
      ]
    },
    {
      "cell_type": "code",
      "source": [
        "formatted_total_profits = \"$\" + str(total_profits)"
      ],
      "metadata": {
        "id": "eq4QnVRlI6Ds"
      },
      "execution_count": 6,
      "outputs": []
    },
    {
      "cell_type": "code",
      "source": [
        "formatted_total_profits"
      ],
      "metadata": {
        "colab": {
          "base_uri": "https://localhost:8080/",
          "height": 35
        },
        "id": "lY4ja_XsJ5Cg",
        "outputId": "7e4a71d0-3029-4581-9a12-912782f75f99"
      },
      "execution_count": 7,
      "outputs": [
        {
          "output_type": "execute_result",
          "data": {
            "text/plain": [
              "'$800'"
            ],
            "application/vnd.google.colaboratory.intrinsic+json": {
              "type": "string"
            }
          },
          "metadata": {},
          "execution_count": 7
        }
      ]
    },
    {
      "cell_type": "code",
      "source": [],
      "metadata": {
        "id": "Oau-MPiHJ6sH"
      },
      "execution_count": null,
      "outputs": []
    },
    {
      "cell_type": "markdown",
      "source": [
        "# Total proft made by the airline company is $800, this as a result of multiplying the total number of passenger(29) with cost of a ticket(200) which is the sum of $5800, further subtracting the total cost of running the plane(5000) from the flight earnings(5800) which is $800."
      ],
      "metadata": {
        "id": "MRIubEiCJ9lQ"
      }
    },
    {
      "cell_type": "code",
      "source": [],
      "metadata": {
        "id": "tvU9n7zgL2U2"
      },
      "execution_count": null,
      "outputs": []
    }
  ]
}